{
  "nbformat": 4,
  "nbformat_minor": 0,
  "metadata": {
    "colab": {
      "provenance": [],
      "authorship_tag": "ABX9TyMYVPwnEn1PxuIP7Q7nHLaM",
      "include_colab_link": true
    },
    "kernelspec": {
      "name": "python3",
      "display_name": "Python 3"
    },
    "language_info": {
      "name": "python"
    }
  },
  "cells": [
    {
      "cell_type": "markdown",
      "metadata": {
        "id": "view-in-github",
        "colab_type": "text"
      },
      "source": [
        "<a href=\"https://colab.research.google.com/github/SouravKumarSingh01/Shopping-Cart-System/blob/main/Shopping_Cart_System.ipynb\" target=\"_parent\"><img src=\"https://colab.research.google.com/assets/colab-badge.svg\" alt=\"Open In Colab\"/></a>"
      ]
    },
    {
      "cell_type": "markdown",
      "source": [
        "### Product and Coupons"
      ],
      "metadata": {
        "id": "QVJ8uKPorpmb"
      }
    },
    {
      "cell_type": "code",
      "execution_count": 10,
      "metadata": {
        "colab": {
          "base_uri": "https://localhost:8080/"
        },
        "id": "Y1K_XRyLrjP1",
        "outputId": "79bd7898-329a-445e-c738-dc58a21b12c0"
      },
      "outputs": [
        {
          "output_type": "execute_result",
          "data": {
            "text/plain": [
              "({'styling': {'shoes': [{'name': 'Shoe 1', 'price': 55},\n",
              "    {'name': 'Shoe 2', 'price': 60},\n",
              "    {'name': 'Shoe 3', 'price': 65},\n",
              "    {'name': 'Shoe 4', 'price': 70},\n",
              "    {'name': 'Shoe 5', 'price': 75}],\n",
              "   'shirts': [{'name': 'Shirt 1', 'price': 22},\n",
              "    {'name': 'Shirt 2', 'price': 24},\n",
              "    {'name': 'Shirt 3', 'price': 26},\n",
              "    {'name': 'Shirt 4', 'price': 28},\n",
              "    {'name': 'Shirt 5', 'price': 30}],\n",
              "   'pants': [{'name': 'Pant 1', 'price': 33},\n",
              "    {'name': 'Pant 2', 'price': 36},\n",
              "    {'name': 'Pant 3', 'price': 39},\n",
              "    {'name': 'Pant 4', 'price': 42},\n",
              "    {'name': 'Pant 5', 'price': 45}],\n",
              "   'caps': [{'name': 'Cap 1', 'price': 16},\n",
              "    {'name': 'Cap 2', 'price': 17},\n",
              "    {'name': 'Cap 3', 'price': 18}]},\n",
              "  'self_care': {'shampoos': [{'name': 'Shampoo 1', 'price': 11},\n",
              "    {'name': 'Shampoo 2', 'price': 12},\n",
              "    {'name': 'Shampoo 3', 'price': 13},\n",
              "    {'name': 'Shampoo 4', 'price': 14},\n",
              "    {'name': 'Shampoo 5', 'price': 15}],\n",
              "   'conditioners': [{'name': 'Conditioner 1', 'price': 13},\n",
              "    {'name': 'Conditioner 2', 'price': 14},\n",
              "    {'name': 'Conditioner 3', 'price': 15},\n",
              "    {'name': 'Conditioner 4', 'price': 16},\n",
              "    {'name': 'Conditioner 5', 'price': 17}],\n",
              "   'hair_masks': [{'name': 'Hair Mask 1', 'price': 22},\n",
              "    {'name': 'Hair Mask 2', 'price': 24},\n",
              "    {'name': 'Hair Mask 3', 'price': 26}],\n",
              "   'hair_serum': [{'name': 'Hair Serum', 'price': 25}]},\n",
              "  'college_ready': {'college_bags': [{'name': 'College Bag 1', 'price': 44},\n",
              "    {'name': 'College Bag 2', 'price': 48},\n",
              "    {'name': 'College Bag 3', 'price': 52},\n",
              "    {'name': 'College Bag 4', 'price': 56},\n",
              "    {'name': 'College Bag 5', 'price': 60}],\n",
              "   'phone_cases': [{'name': 'Phone Case 1', 'price': 6},\n",
              "    {'name': 'Phone Case 2', 'price': 7},\n",
              "    {'name': 'Phone Case 3', 'price': 8},\n",
              "    {'name': 'Phone Case 4', 'price': 9},\n",
              "    {'name': 'Phone Case 5', 'price': 10}]}},\n",
              " {'styling': {'STYLE10': 0.1, 'STYLE20': 0.2, 'STYLEFLAT5': 5},\n",
              "  'self_care': {'CARE15': 0.15, 'CARE25': 0.25, 'CAREFLAT10': 10},\n",
              "  'college_ready': {'READY10': 0.1, 'READY20': 0.2, 'READYFLAT5': 5}})"
            ]
          },
          "metadata": {},
          "execution_count": 10
        }
      ],
      "source": [
        "products = {\n",
        "    \"styling\": {\n",
        "        \"shoes\": [{\"name\": f\"Shoe {i}\", \"price\": 50 + i * 5} for i in range(1,6)],\n",
        "        \"shirts\": [{\"name\": f\"Shirt {i}\", \"price\": 20 + i * 2} for i in range(1, 6)],\n",
        "        \"pants\": [{\"name\": f\"Pant {i}\", \"price\": 30 + i * 3} for i in range(1, 6)],\n",
        "        \"caps\": [{\"name\": f\"Cap {i}\", \"price\": 15 + i} for i in range(1, 4)]\n",
        "    },\n",
        "    \"self_care\": {\n",
        "        \"shampoos\": [{\"name\": f\"Shampoo {i}\", \"price\": 10 + i} for i in range(1, 6)],\n",
        "        \"conditioners\": [{\"name\": f\"Conditioner {i}\", \"price\": 12 + i} for i in range(1, 6)],\n",
        "        \"hair_masks\": [{\"name\": f\"Hair Mask {i}\", \"price\": 20 + i * 2} for i in range(1, 4)],\n",
        "        \"hair_serum\": [{\"name\": \"Hair Serum\", \"price\": 25}]\n",
        "    },\n",
        "    \"college_ready\": {\n",
        "        \"college_bags\": [{\"name\": f\"College Bag {i}\", \"price\": 40 + i * 4} for i in range(1, 6)],\n",
        "        \"phone_cases\": [{\"name\": f\"Phone Case {i}\", \"price\": 5 + i} for i in range(1, 6)]\n",
        "    }\n",
        "}\n",
        "\n",
        "coupons = {\n",
        "    \"styling\": {\n",
        "        \"STYLE10\": 0.10,  # 10% discount\n",
        "        \"STYLE20\": 0.20,  # 20% discount\n",
        "        \"STYLEFLAT5\": 5    # Flat $5 discount\n",
        "    },\n",
        "    \"self_care\": {\n",
        "        \"CARE15\": 0.15,\n",
        "        \"CARE25\": 0.25,\n",
        "        \"CAREFLAT10\": 10\n",
        "    },\n",
        "    \"college_ready\": {\n",
        "        \"READY10\": 0.10,\n",
        "        \"READY20\": 0.20,\n",
        "        \"READYFLAT5\": 5\n",
        "    }\n",
        "}\n",
        "\n",
        "# The products and coupons are now defined. Next, we'll work on the user interface and cart management.\n",
        "products, coupons"
      ]
    },
    {
      "cell_type": "code",
      "source": [
        "\n",
        "def display_products(category):\n",
        "    \"\"\"\n",
        "    Displays products in a given category.\n",
        "    \"\"\"\n",
        "    for product_type, items in products[category].items():\n",
        "        print(f\"\\n{product_type.capitalize()}:\")\n",
        "        for idx, item in enumerate(items, start=1):\n",
        "            print(f\"{idx}. {item['name']} - ${item['price']}\")"
      ],
      "metadata": {
        "id": "2Z__cjy8r5qi"
      },
      "execution_count": 11,
      "outputs": []
    },
    {
      "cell_type": "code",
      "source": [
        "def select_products(category):\n",
        "    \"\"\"\n",
        "    Allows the user to select products from a given category and adds them to the cart.\n",
        "    \"\"\"\n",
        "    cart = []\n",
        "    display_products(category)\n",
        "    while True:\n",
        "        product_type = input(f\"\\nSelect a product type from {category} (shoes, shirts, etc.) or type 'done' to finish: \").lower()\n",
        "        if product_type == 'done':\n",
        "            break\n",
        "        if product_type in products[category]:\n",
        "            product_idx = int(input(f\"Select the product number from {product_type} you wish to add: \")) - 1\n",
        "            if 0 <= product_idx < len(products[category][product_type]):\n",
        "                cart.append(products[category][product_type][product_idx])\n",
        "                print(f\"Added {products[category][product_type][product_idx]['name']} to the cart.\")\n",
        "            else:\n",
        "                print(\"Invalid product number. Please try again.\")\n",
        "        else:\n",
        "            print(\"Invalid product type. Please try again.\")\n",
        "    return cart"
      ],
      "metadata": {
        "id": "LfXETTP3sfQM"
      },
      "execution_count": 12,
      "outputs": []
    },
    {
      "cell_type": "code",
      "source": [
        "def apply_coupon(cart, category):\n",
        "    \"\"\"\n",
        "    Applies a coupon to the cart and returns the discounted total.\n",
        "    \"\"\"\n",
        "    total = sum(item['price'] for item in cart)\n",
        "    print(f\"\\nYour total before discount is: ${total}\")\n",
        "    coupon_code = input(\"Enter a coupon code or type 'none' to skip: \").upper()\n",
        "    if coupon_code in coupons[category]:\n",
        "        discount = coupons[category][coupon_code]\n",
        "        if isinstance(discount, int):  # Flat discount\n",
        "            total -= discount\n",
        "        else:  # Percentage discount\n",
        "            total -= total * discount\n",
        "        print(f\"Coupon applied! Your total after discount is: ${total:.2f}\")\n",
        "    elif coupon_code != 'NONE':\n",
        "        print(\"Invalid coupon code. No discount applied.\")\n",
        "    return total\n"
      ],
      "metadata": {
        "id": "LYn2-9ALsk30"
      },
      "execution_count": 13,
      "outputs": []
    },
    {
      "cell_type": "code",
      "source": [
        "def checkout(cart, category):\n",
        "    \"\"\"\n",
        "    Handles the checkout process including user details and OTP simulation.\n",
        "    \"\"\"\n",
        "    if not cart:\n",
        "        print(\"\\nYour cart is empty.\")\n",
        "        return\n",
        "\n",
        "    # Apply coupon\n",
        "    total = apply_coupon(cart, category)\n",
        "\n",
        "    # Collect user information\n",
        "    email = input(\"\\nEnter your email address: \")\n",
        "    phone = input(\"Enter your phone number: \")\n",
        "    address = input(\"Enter your delivery address: \")\n",
        "\n",
        "    # Simulate OTP process\n",
        "    otp = \"1234\"  # In a real application, this would be randomly generated and sent to the user's phone/email\n",
        "    entered_otp = input(\"Enter the OTP sent to your phone/email: \")\n",
        "    if entered_otp == otp:\n",
        "        print(f\"\\nOrder confirmed! Your items will be delivered to {address}. Total amount to be paid: ${total:.2f}\")\n",
        "    else:\n",
        "      print(\"\\nIncorrect OTP. Please try again.\")"
      ],
      "metadata": {
        "id": "yR6ATMv1sndX"
      },
      "execution_count": 14,
      "outputs": []
    },
    {
      "cell_type": "code",
      "source": [
        "def main():\n",
        "    # Display categories\n",
        "    categories = products.keys()\n",
        "    print(\"Available categories:\")\n",
        "    for category in categories:\n",
        "        print(f\"- {category}\")\n",
        "\n",
        "    # User selects a category\n",
        "    while True:\n",
        "        selected_category = input(\"\\nPlease select a category (or type 'exit' to quit): \").lower()\n",
        "        if selected_category == 'exit':\n",
        "            break\n",
        "        if selected_category in categories:\n",
        "            # User selects products\n",
        "            cart = select_products(selected_category)\n",
        "            # Proceed to checkout\n",
        "            checkout(cart, selected_category)\n",
        "        else:\n",
        "            print(\"Invalid category. Please try again.\")\n",
        "\n",
        "# Run the program\n",
        "if __name__ == \"__main__\":\n",
        "    main()\n"
      ],
      "metadata": {
        "colab": {
          "base_uri": "https://localhost:8080/"
        },
        "id": "hQLuFuV5s2d8",
        "outputId": "27b194ef-b55d-49fc-c85c-6842cca55e83"
      },
      "execution_count": 15,
      "outputs": [
        {
          "name": "stdout",
          "output_type": "stream",
          "text": [
            "Available categories:\n",
            "- styling\n",
            "- self_care\n",
            "- college_ready\n",
            "\n",
            "Please select a category (or type 'exit' to quit): styling\n",
            "\n",
            "Shoes:\n",
            "1. Shoe 1 - $55\n",
            "2. Shoe 2 - $60\n",
            "3. Shoe 3 - $65\n",
            "4. Shoe 4 - $70\n",
            "5. Shoe 5 - $75\n",
            "\n",
            "Shirts:\n",
            "1. Shirt 1 - $22\n",
            "2. Shirt 2 - $24\n",
            "3. Shirt 3 - $26\n",
            "4. Shirt 4 - $28\n",
            "5. Shirt 5 - $30\n",
            "\n",
            "Pants:\n",
            "1. Pant 1 - $33\n",
            "2. Pant 2 - $36\n",
            "3. Pant 3 - $39\n",
            "4. Pant 4 - $42\n",
            "5. Pant 5 - $45\n",
            "\n",
            "Caps:\n",
            "1. Cap 1 - $16\n",
            "2. Cap 2 - $17\n",
            "3. Cap 3 - $18\n",
            "\n",
            "Select a product type from styling (shoes, shirts, etc.) or type 'done' to finish: Shoes\n",
            "Select the product number from shoes you wish to add: 2\n",
            "Added Shoe 2 to the cart.\n",
            "\n",
            "Select a product type from styling (shoes, shirts, etc.) or type 'done' to finish: Pants\n",
            "Select the product number from pants you wish to add: 4\n",
            "Added Pant 4 to the cart.\n",
            "\n",
            "Select a product type from styling (shoes, shirts, etc.) or type 'done' to finish: Caps\n",
            "Select the product number from caps you wish to add: 2\n",
            "Added Cap 2 to the cart.\n",
            "\n",
            "Select a product type from styling (shoes, shirts, etc.) or type 'done' to finish: slef_case\n",
            "Invalid product type. Please try again.\n",
            "\n",
            "Select a product type from styling (shoes, shirts, etc.) or type 'done' to finish: self_care\n",
            "Invalid product type. Please try again.\n",
            "\n",
            "Select a product type from styling (shoes, shirts, etc.) or type 'done' to finish: done\n",
            "\n",
            "Your total before discount is: $119\n",
            "Enter a coupon code or type 'none' to skip: discount\n",
            "Invalid coupon code. No discount applied.\n",
            "\n",
            "Enter your email address: 1109souravkumar@gmail.com\n",
            "Enter your phone number: 7671036645\n",
            "Enter your delivery address: Jaya Residency, Hyderabad\n",
            "Enter the OTP sent to your phone/email: 1234\n",
            "\n",
            "Order confirmed! Your items will be delivered to Jaya Residency, Hyderabad. Total amount to be paid: $119.00\n",
            "\n",
            "Please select a category (or type 'exit' to quit): quit\n",
            "Invalid category. Please try again.\n",
            "\n",
            "Please select a category (or type 'exit' to quit): exit\n"
          ]
        }
      ]
    }
  ]
}